{
 "cells": [
  {
   "cell_type": "code",
   "execution_count": 70,
   "id": "6b360f85",
   "metadata": {},
   "outputs": [],
   "source": [
    "from __future__ import print_function\n",
    "import argparse\n",
    "import torch\n",
    "import torch.nn as nn\n",
    "import torch.nn.functional as F\n",
    "import torch.optim as optim\n",
    "import numpy as np;\n",
    "import pandas as pandas;\n",
    "from scipy import ndimage\n",
    "from torchvision import datasets, transforms\n",
    "from torch.distributions import normal\n",
    "from torch.distributions import multivariate_normal\n",
    "import matplotlib.pyplot as plt\n",
    "import time"
   ]
  },
  {
   "cell_type": "markdown",
   "id": "5e19d7e4",
   "metadata": {},
   "source": [
    "## Creation of artificial data\n",
    "\n",
    "Data are created artificially with a mixed Gaussian distribution of two clusters, with specific means and standard deviations"
   ]
  },
  {
   "cell_type": "code",
   "execution_count": 71,
   "id": "44e79425",
   "metadata": {},
   "outputs": [],
   "source": [
    "def createData(numberSamplesPerClass = 2, mean1 = [2, 2], mean2 = [26, 26], stds1 = [3, 3], stds2 = [2, 1]):\n",
    "    \"\"\"\n",
    "    Creates the data to be used for training, using a GMM distribution\n",
    "    @param numberSamplesPerClass, the number of samples per class\n",
    "    @param mean1, means for samples from the class 1\n",
    "    @param mean2, means for samples from the class 2\n",
    "    @param stds1, standard deviation for samples, class 1\n",
    "    @param stds2, standard deviation for samples, class 2    \"\"\"\n",
    "    means = torch.zeros(2)\n",
    "    # Ones to concatenate for bias\n",
    "    ones = torch.ones(numberSamplesPerClass, 1)\n",
    "    means[0] = mean1[0]\n",
    "    means[1] = mean1[1]\n",
    "    # Covariance matrix creation with identity\n",
    "    covarianceMatrix = torch.eye(2)\n",
    "    covarianceMatrix[0, 0] = stds1[0]\n",
    "    covarianceMatrix[1, 1] = stds1[1]\n",
    "    samplesClass1 = createDataOneClass(means, covarianceMatrix, numberSamplesPerClass)\n",
    "    means[0] = mean2[0]\n",
    "    means[1] = mean2[1]\n",
    "    covarianceMatrix[0, 0] = stds2[0]\n",
    "    covarianceMatrix[1, 1] = stds2[1]\n",
    "    samplesClass2 = createDataOneClass(means, covarianceMatrix, numberSamplesPerClass)\n",
    "    # Concatenates the ones for the bias\n",
    "    samplesClass1Bias = torch.cat((ones, samplesClass1), 1)\n",
    "    samplesClass2Bias = torch.cat((ones, samplesClass2), 1)\n",
    "    samplesAll = torch.cat((samplesClass1, samplesClass2), 0)\n",
    "    plt.scatter(samplesClass1[:, 0], samplesClass1[:, 1])\n",
    "    plt.scatter(samplesClass2[:, 0], samplesClass2[:, 1], marker = 'x')\n",
    "    plt.show()\n",
    "    #Create samples without bias\n",
    "    samplesAll = torch.cat((samplesClass1, samplesClass2), 0)\n",
    "    \n",
    "    #Create targets\n",
    "    targetsClass1 = torch.ones(numberSamplesPerClass, 1)\n",
    "    targetsClass2 = torch.zeros(numberSamplesPerClass, 1)\n",
    "    targetsAll = torch.cat((targetsClass1, targetsClass2), 0)\n",
    "    \n",
    "    return (targetsAll, samplesAll)\n",
    "\n",
    "\n",
    "'''\n",
    "Creates data with gaussian distribution\n",
    "'''\n",
    "def createDataOneClass(means, covarianceMatrix, numberSamples):\n",
    "    # Inits the bi gaussian data generator\n",
    "    multiGaussGenerator = multivariate_normal.MultivariateNormal(means, covarianceMatrix)\n",
    "    # Takes the samples\n",
    "    samples = multiGaussGenerator.sample(torch.Size([numberSamples]))\n",
    "    \n",
    "    return samples"
   ]
  },
  {
   "cell_type": "markdown",
   "id": "1a4fb854",
   "metadata": {},
   "source": [
    "## K nearest neighbors implementation"
   ]
  },
  {
   "cell_type": "code",
   "execution_count": 82,
   "id": "e8a52c67",
   "metadata": {},
   "outputs": [],
   "source": [
    "def evaluate_k_nearest_neighbors_observation(data_training, labels_training, test_observation, K = 3, is_euclidian = True):\n",
    "    #TODO\n",
    "    return t_estimated\n",
    "    \n",
    "def evaluate_k_nearest_neighbors_test_dataset(data_training, labels_training, test_dataset, K = 7, is_euclidian = True):\n",
    "    #TODO\n",
    "\n",
    "def calculate_accuracy(test_estimations, test_labels):\n",
    "    #TODO\n",
    "        \n",
    "        \n",
    "    \n",
    "    \n",
    "    "
   ]
  },
  {
   "cell_type": "markdown",
   "id": "08bfca44",
   "metadata": {},
   "source": [
    "## Main Function"
   ]
  },
  {
   "cell_type": "code",
   "execution_count": 83,
   "id": "03dffe9a",
   "metadata": {},
   "outputs": [
    {
     "data": {
      "image/png": "[encoded data removed]",
      "text/plain": [
       "<Figure size 432x288 with 1 Axes>"
      ]
     },
     "metadata": {
      "needs_background": "light"
     },
     "output_type": "display_data"
    },
    {
     "name": "stdout",
     "output_type": "stream",
     "text": [
      "tensor([[11.8829, 11.7708]])\n",
      "time_elapsed  6.758134603500366\n",
      "error_rate  tensor(0.0975)\n"
     ]
    }
   ],
   "source": [
    "\"\"\"\n",
    "Main function\n",
    "\"\"\"\n",
    "def main():\n",
    "    (TargetsAll, SamplesAll) = createData(numberSamplesPerClass = 2000, mean1 = [12,12], mean2 = [15, 15], stds1 = [3, 3], stds2 = [2, 2])    \n",
    "    test_observation_1 = SamplesAll[0, :].unsqueeze(0)\n",
    "    print(test_observation_1)\n",
    "    #example\n",
    "    #evaluate_k_nearest_neighbors_observation(SamplesAll, TargetsAll, test_observation_1)    \n",
    "    test_estimations_all = evaluate_k_nearest_neighbors_test_dataset(SamplesAll, TargetsAll, SamplesAll,  is_euclidian = False)\n",
    "    #calculate accuracy\n",
    "    calculate_accuracy(test_estimations_all.unsqueeze(0).transpose(0, 1), TargetsAll)\n",
    "    \n",
    "\n",
    "    \n",
    "main()"
   ]
  }
 ],
 "metadata": {
  "kernelspec": {
   "display_name": "Python 3 (ipykernel)",
   "language": "python",
   "name": "python3"
  },
  "language_info": {
   "codemirror_mode": {
    "name": "ipython",
    "version": 3
   },
   "file_extension": ".py",
   "mimetype": "text/x-python",
   "name": "python",
   "nbconvert_exporter": "python",
   "pygments_lexer": "ipython3",
   "version": "3.9.7"
  }
 },
 "nbformat": 4,
 "nbformat_minor": 5
}
