{
  "cells": [
    {
      "cell_type": "code",
      "execution_count": null,
      "metadata": {
        "colab": {
          "base_uri": "https://localhost:8080/"
        },
        "id": "i0NFXRYQJRBG",
        "outputId": "db55073f-3401-4aad-ee79-834d02e96bb8"
      },
      "outputs": [
        {
          "output_type": "stream",
          "name": "stdout",
          "text": [
            "Mounted at /content/drive\n"
          ]
        }
      ],
      "source": [
        "import torch\n",
        "import torchvision\n",
        "from google.colab import drive\n",
        "drive.mount('/content/drive')\n",
        "from PIL import Image\n",
        "import torchvision.datasets as datasets\n",
        "import torchvision.transforms.functional as TF\n",
        "import matplotlib.pyplot as plt\n",
        "import numpy as np\n",
        "from sklearn.model_selection import train_test_split"
      ]
    },
    {
      "cell_type": "code",
      "execution_count": null,
      "metadata": {
        "colab": {
          "base_uri": "https://localhost:8080/"
        },
        "id": "1hpVmR6TJRBL",
        "outputId": "7b23a36a-af56-47f6-dacf-dd3afe06c393"
      },
      "outputs": [
        {
          "output_type": "stream",
          "name": "stdout",
          "text": [
            "The accuracy is 0.9166666666666666\n"
          ]
        }
      ],
      "source": [
        "import numpy\n",
        "\n",
        "def binarize_image(image_tensor):\n",
        "    image_tensor[image_tensor > 0.5] = 1\n",
        "    image_tensor[image_tensor <= 0.5] = 0\n",
        "    return image_tensor\n",
        "\n",
        "def get_labels_probabilities(labels_occurences):\n",
        "  uniq, counts = labels_occurences.unique(return_counts=True)\n",
        "  return torch.div(counts, labels_occurences.shape[0])\n",
        "\n",
        "def generate_probabilities_matrix(train_data_tensor, labels_training, labels_probabilities, num_classes):\n",
        "  complete_matrix = torch.zeros(num_classes, train_data_tensor.shape[0])\n",
        "  general_probabilities_matrix = []\n",
        "\n",
        "  for k in range(0, num_classes):\n",
        "    k_type_observations = train_data_tensor[:, labels_training == k]\n",
        "    k_pixels_probabilities = []\n",
        "    sum = torch.sum(k_type_observations, 1)\n",
        "    tensor_k_pixels_probabilities = torch.div(sum, k_type_observations.shape[1])\n",
        "    complete_matrix[k].add_(tensor_k_pixels_probabilities)\n",
        "  return complete_matrix\n",
        "\n",
        "def test_model(input_torch, p_m_pix_val_given_k, p_t_tensor, num_classes = 10):\n",
        "    #assumes that the input comes in a row\n",
        "    probs = torch.zeros(num_classes, input_torch.shape[0])\n",
        "    idxsOnes = torch.nonzero(input_torch)\n",
        "    idxsZeros = (input_torch == 0).nonzero()\n",
        "    probs[:, idxsZeros] = torch.log(p_m_pix_val_given_k[0][:, idxsZeros])\n",
        "    probs[:, idxsOnes] = torch.log(p_m_pix_val_given_k[1][:, idxsOnes])\n",
        "    probs = probs + torch.log(p_t_tensor.view(num_classes, 1))\n",
        "    scores_classes = torch.sum(probs, 1)\n",
        "    return (torch.argmax(scores_classes).item(), scores_classes)\n",
        "    \n",
        "\n",
        "def test_model_batch(test_set, labels, p_m_pix_val_given_k, p_t_tensor):\n",
        "    right_predictions = 0\n",
        "    for image in range(0, test_set.shape[1]):\n",
        "      (predicted_label, score_clasess) = test_model(test_set[:, image], p_m_pix_val_given_k, p_t_tensor, 10)\n",
        "      if(predicted_label == labels[image]):\n",
        "          right_predictions += 1\n",
        "    return right_predictions / test_set.shape[1]\n",
        "\n",
        "\n",
        "def train_model(train_data_tensor, labels_training, num_classes = 10):\n",
        "    labels_probabilities = get_labels_probabilities(labels_training)\n",
        "    matrix_probabilities_1_given_k = generate_probabilities_matrix(train_data_tensor, labels_training, labels_probabilities, num_classes)\n",
        "    matrix_probabilities_0_given_k = 1 - matrix_probabilities_1_given_k\n",
        "    p_m_pix_val_given_k = [matrix_probabilities_0_given_k, matrix_probabilities_1_given_k]\n",
        "    return (p_m_pix_val_given_k, labels_probabilities)\n",
        "\n",
        "\n",
        "\n",
        "def load_dataset(path = \"/content/drive/MyDrive/Colab Notebooks/mnist_dataset/train\"):\n",
        "    #Open up the dataset\n",
        "    dataset =  torchvision.datasets.ImageFolder(path)   \n",
        "    list_images = dataset.imgs\n",
        "    train_data_tensor  = None    \n",
        "    labels_training = []\n",
        "    first_tensor = True\n",
        "\n",
        "    for i in range(0, len(list_images)):\n",
        "        pair_path_label = list_images[i]        \n",
        "        image = Image.open(pair_path_label[0]) \n",
        "        x_tensor = TF.to_tensor(image).squeeze()\n",
        "        x_tensor_bin = binarize_image(x_tensor)       \n",
        "        \n",
        "        x_tensor_bin_plain = x_tensor_bin.view(x_tensor_bin.shape[0] * x_tensor_bin.shape[1], -1)      \n",
        "\n",
        "        labels_training += [pair_path_label[1]]\n",
        "        \n",
        "        if(first_tensor):\n",
        "            first_tensor = False\n",
        "            train_data_tensor = x_tensor_bin_plain\n",
        "        else:\n",
        "            train_data_tensor = torch.cat((train_data_tensor, x_tensor_bin_plain), 1)\n",
        " \n",
        "    return (train_data_tensor, torch.tensor(labels_training))       \n",
        "\n",
        "    \n",
        "(train_data_tensor, labels_tensor) = load_dataset(path = \"/content/drive/MyDrive/Colab Notebooks/mnist_dataset/train\")\n",
        "\n",
        "p_m_pix_val_given_k , p_t_tensor = train_model(train_data_tensor, labels_tensor)\n",
        "\n",
        "#Predecir el label de una observacion, la observacion #500\n",
        "(predicted_label, scores_classes) = test_model(train_data_tensor[:, 500], p_m_pix_val_given_k, p_t_tensor, 10)\n",
        "\n",
        "accuracy = test_model_batch(train_data_tensor, labels_tensor, p_m_pix_val_given_k, p_t_tensor)\n",
        "\n",
        "print(\"The accuracy is\", accuracy)"
      ]
    },
    {
      "cell_type": "markdown",
      "source": [
        "## Aciertos para 10 corridas\n",
        "Particione los datos de forma aleatoria con 70 % de las observaciones para entrenamiento y 30 % para prueba (a partir de la carpeta train). Calcule la tasa de aciertos para 10 corridas, cada una con una partición de entrenamiento y otra de prueba distintas"
      ],
      "metadata": {
        "id": "mnR_ft4SpP53"
      }
    },
    {
      "cell_type": "code",
      "source": [
        "X = train_data_tensor.transpose(0,1)\n",
        "# Split the matrix and labels for training and test partitions\n",
        "# For reproductibility \n",
        "partitions_acc = []\n",
        "for i in range(0, 10) :\n",
        "  X_train, X_test, y_train, y_test = train_test_split(X, labels_tensor, test_size=0.3)\n",
        "  p_m_pix_val_given_k , p_t_tensor = train_model(X_train.transpose(0,1), y_train)\n",
        "  accuracy = test_model_batch(X_test.transpose(0,1), y_test, p_m_pix_val_given_k, p_t_tensor)\n",
        "  print('epoch :%s, accuracy: %s'%(i, accuracy))\n",
        "\n",
        "  partitions_acc.append(accuracy)\n",
        "\n",
        "partitions_acc = np.array(partitions_acc)\n",
        "print('')\n",
        "print('partitions stats')\n",
        "print('accuracy mean: %s'%(partitions_acc.mean()))\n",
        "print('accuracy std: %s'%(partitions_acc.std()))"
      ],
      "metadata": {
        "colab": {
          "base_uri": "https://localhost:8080/"
        },
        "id": "FXeOdcU_nace",
        "outputId": "577fe4d4-7fe0-4212-b53a-0e168a6517b3"
      },
      "execution_count": null,
      "outputs": [
        {
          "output_type": "stream",
          "name": "stdout",
          "text": [
            "epoch :0, accuracy: 0.5388888888888889\n",
            "epoch :1, accuracy: 0.45\n",
            "epoch :2, accuracy: 0.5111111111111111\n",
            "epoch :3, accuracy: 0.5055555555555555\n",
            "epoch :4, accuracy: 0.46111111111111114\n",
            "epoch :5, accuracy: 0.4166666666666667\n",
            "epoch :6, accuracy: 0.5722222222222222\n",
            "epoch :7, accuracy: 0.5166666666666667\n",
            "epoch :8, accuracy: 0.4444444444444444\n",
            "epoch :9, accuracy: 0.4166666666666667\n",
            "\n",
            "partitions stats\n",
            "accuracy mean: 0.4833333333333334\n",
            "accuracy std: 0.0503690086961917\n"
          ]
        }
      ]
    },
    {
      "cell_type": "markdown",
      "source": [
        "# Efecto del desbalanceo de los datos"
      ],
      "metadata": {
        "id": "9-qglMaGw7C8"
      }
    },
    {
      "cell_type": "code",
      "source": [
        "X = train_data_tensor.transpose(0,1)\n",
        "\n",
        "# The numbers of observations per class, for this scenario.\n",
        "total_num_observations_per_class_train = [22, 22, 22, 22, 22, 42, 42, 42, 42, 42]\n",
        "total_num_observations_per_class_test = [18, 18, 18, 18, 18, 18, 18, 18, 18, 18]\n",
        "\n",
        "partitions_acc = []\n",
        "for i in range(0, 10) :\n",
        "  # Shuffle the data before getting the observations \n",
        "  indexes = torch.randperm(labels_tensor.shape[0])\n",
        "  shuffle_X, shuffle_labels_tensor = X[indexes], labels_tensor[indexes]\n",
        "\n",
        "  X_train, y_train, X_test, y_test = torch.Tensor([]), torch.Tensor([]), torch.Tensor([]), torch.Tensor([])\n",
        "\n",
        "  num_observations_per_class_train = np.zeros(10, np.int8)\n",
        "  num_observations_per_class_test = np.zeros(10, np.int8)\n",
        "\n",
        "  # Create the training and test sets\n",
        "  for j in range(0, len(shuffle_labels_tensor)):\n",
        "    label = shuffle_labels_tensor[j]\n",
        "\n",
        "    if num_observations_per_class_train[label] < total_num_observations_per_class_train[label]:\n",
        "      if X_train.shape[0] == 0:\n",
        "        X_train = torch.unsqueeze(shuffle_X[j], 0)\n",
        "      else:\n",
        "        X_train = torch.cat((X_train, torch.unsqueeze(shuffle_X[j], 0)), 0)\n",
        "      \n",
        "      y_train = torch.cat((y_train, torch.Tensor([shuffle_labels_tensor[j]])), 0)\n",
        "\n",
        "      num_observations_per_class_train[label]+= 1\n",
        "      \n",
        "    elif num_observations_per_class_test[label] < total_num_observations_per_class_test[label]:\n",
        "      if X_test.shape[0] == 0:\n",
        "        X_test = torch.unsqueeze(shuffle_X[j], 0)\n",
        "      else:\n",
        "        X_test = torch.cat((X_test, torch.unsqueeze(shuffle_X[j], 0)), 0)\n",
        "      \n",
        "      y_test = torch.cat((y_test, torch.Tensor([shuffle_labels_tensor[j]])), 0)\n",
        "\n",
        "      num_observations_per_class_test[label]+= 1\n",
        "\n",
        "  # Train the model with the partition\n",
        "  p_m_pix_val_given_k , p_t_tensor = train_model(X_train.transpose(0,1), y_train)\n",
        "  # Get the accuracy of the model\n",
        "  accuracy = test_model_batch(X_test.transpose(0,1), y_test, p_m_pix_val_given_k, p_t_tensor)\n",
        "  print('epoch :%s, accuracy: %s'%(i, accuracy))\n",
        "\n",
        "  partitions_acc.append(accuracy)\n",
        "\n",
        "partitions_acc = np.array(partitions_acc)\n",
        "print('')\n",
        "print('partitions stats')\n",
        "print('accuracy mean: %s'%(partitions_acc.mean()))\n",
        "print('accuracy std: %s'%(partitions_acc.std()))\n",
        "\n"
      ],
      "metadata": {
        "colab": {
          "base_uri": "https://localhost:8080/"
        },
        "id": "UEtvOMOWw_BF",
        "outputId": "9f188582-09a3-4b3f-8635-683a88a0caa7"
      },
      "execution_count": null,
      "outputs": [
        {
          "output_type": "stream",
          "name": "stdout",
          "text": [
            "epoch :0, accuracy: 0.4777777777777778\n",
            "epoch :1, accuracy: 0.43333333333333335\n",
            "epoch :2, accuracy: 0.38333333333333336\n",
            "epoch :3, accuracy: 0.4444444444444444\n",
            "epoch :4, accuracy: 0.4166666666666667\n",
            "epoch :5, accuracy: 0.42777777777777776\n",
            "epoch :6, accuracy: 0.4388888888888889\n",
            "epoch :7, accuracy: 0.45\n",
            "epoch :8, accuracy: 0.4888888888888889\n",
            "epoch :9, accuracy: 0.42777777777777776\n",
            "\n",
            "partitions stats\n",
            "accuracy mean: 0.43888888888888894\n",
            "accuracy std: 0.02832788618662658\n"
          ]
        }
      ]
    }
  ],
  "metadata": {
    "kernelspec": {
      "display_name": "Python 3 (ipykernel)",
      "language": "python",
      "name": "python3"
    },
    "language_info": {
      "codemirror_mode": {
        "name": "ipython",
        "version": 3
      },
      "file_extension": ".py",
      "mimetype": "text/x-python",
      "name": "python",
      "nbconvert_exporter": "python",
      "pygments_lexer": "ipython3",
      "version": "3.9.7"
    },
    "colab": {
      "name": "BayesianModel_MNIST.ipynb",
      "provenance": [],
      "collapsed_sections": []
    }
  },
  "nbformat": 4,
  "nbformat_minor": 0
}