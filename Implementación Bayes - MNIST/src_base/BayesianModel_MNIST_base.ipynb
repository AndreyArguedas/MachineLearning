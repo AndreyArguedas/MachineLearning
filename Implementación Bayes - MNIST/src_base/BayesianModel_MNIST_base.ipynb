{
  "cells": [
    {
      "cell_type": "code",
      "execution_count": null,
      "metadata": {
        "colab": {
          "base_uri": "https://localhost:8080/"
        },
        "id": "i0NFXRYQJRBG",
        "outputId": "db816b66-b89a-4359-f538-959768085a94"
      },
      "outputs": [
        {
          "output_type": "stream",
          "name": "stdout",
          "text": [
            "Mounted at /content/drive\n"
          ]
        }
      ],
      "source": [
        "import torch\n",
        "import torchvision\n",
        "from google.colab import drive\n",
        "drive.mount('/content/drive')\n",
        "from PIL import Image\n",
        "import torchvision.datasets as datasets\n",
        "import torchvision.transforms.functional as TF\n",
        "import matplotlib.pyplot as plt\n",
        "import numpy as np"
      ]
    },
    {
      "cell_type": "code",
      "execution_count": null,
      "metadata": {
        "colab": {
          "base_uri": "https://localhost:8080/"
        },
        "id": "1hpVmR6TJRBL",
        "outputId": "cd310152-f505-4255-a03f-1e2a1ad5ca08"
      },
      "outputs": [
        {
          "output_type": "stream",
          "name": "stdout",
          "text": [
            "The accuracy is 0.9166666666666666\n"
          ]
        }
      ],
      "source": [
        "import numpy\n",
        "\n",
        "def binarize_image(image_tensor):\n",
        "    image_tensor[image_tensor > 0.5] = 1\n",
        "    image_tensor[image_tensor <= 0.5] = 0\n",
        "    return image_tensor\n",
        "\n",
        "def get_labels_probabilities(labels_occurences):\n",
        "  uniq, counts = labels_occurences.unique(return_counts=True)\n",
        "  return torch.div(counts, labels_occurences.shape[0])\n",
        "\n",
        "def generate_probabilities_matrix(train_data_tensor, labels_training, labels_probabilities, num_classes):\n",
        "  complete_matrix = torch.zeros(num_classes, train_data_tensor.shape[0])\n",
        "  general_probabilities_matrix = []\n",
        "\n",
        "  for k in range(0, num_classes):\n",
        "    k_type_observations = train_data_tensor[:, labels_training == k]\n",
        "    k_pixels_probabilities = []\n",
        "    sum = torch.sum(k_type_observations, 1)\n",
        "    tensor_k_pixels_probabilities = torch.div(sum, k_type_observations.shape[1])\n",
        "    complete_matrix[k].add_(tensor_k_pixels_probabilities)\n",
        "  return complete_matrix\n",
        "\n",
        "def get_probability_pixel_by_class(pixel, pixel_index, p_m_pix_val_given_k, num_class):\n",
        "  matrix_given_by_pixel = p_m_pix_val_given_k[int(pixel)]\n",
        "  pixel_probability_in_class = matrix_given_by_pixel[num_class][pixel_index]\n",
        "  return pixel_probability_in_class\n",
        "\n",
        "\n",
        "def test_model(input_torch, p_m_pix_val_given_k, p_t_tensor, num_classes = 10):\n",
        "    #assumes that the input comes in a row\n",
        "    k_pixels_probabilities = torch.zeros(num_classes)\n",
        "    for k in range(0, num_classes):\n",
        "      acum = 0.0\n",
        "      for pixel_index in range(0, input_torch.shape[0]):\n",
        "        probability_class_for_pixel = get_probability_pixel_by_class(input_torch[pixel_index].item(), pixel_index, p_m_pix_val_given_k, k)\n",
        "        e1, e2 = torch.log(probability_class_for_pixel), torch.log(p_t_tensor[k])    # convert p1, p2 to log form\n",
        "        e1e2 = e1 + e2                                                               # e1e2 is now np.log(p1 * p2)\n",
        "        acum += e1e2.item()\n",
        "      k_pixels_probabilities[k] = acum\n",
        "    return (torch.argmax(k_pixels_probabilities).item(), k_pixels_probabilities) \n",
        "\n",
        "def test_model_batch(test_set, labels, p_m_pix_val_given_k, p_t_tensor):\n",
        "    right_predictions = 0\n",
        "    for image in range(0, test_set.shape[1]):\n",
        "      (predicted_label, score_clasess) = test_model(test_set[:, image], p_m_pix_val_given_k, p_t_tensor, 10)\n",
        "      if(predicted_label == labels[image]):\n",
        "          right_predictions += 1\n",
        "    return right_predictions / test_set.shape[1]\n",
        "\n",
        "\n",
        "def train_model(train_data_tensor, labels_training, num_classes = 10):\n",
        "    labels_probabilities = get_labels_probabilities(labels_training)\n",
        "    matrix_probabilities_1_given_k = generate_probabilities_matrix(train_data_tensor, labels_training, labels_probabilities, num_classes)\n",
        "    matrix_probabilities_0_given_k = 1 - matrix_probabilities_1_given_k\n",
        "    p_m_pix_val_given_k = [matrix_probabilities_0_given_k, matrix_probabilities_1_given_k]\n",
        "    return (p_m_pix_val_given_k, labels_probabilities)\n",
        "\n",
        "\n",
        "\n",
        "def load_dataset(path = \"/content/drive/MyDrive/Colab Notebooks/mnist_dataset/train\"):\n",
        "    #Open up the dataset\n",
        "    dataset =  torchvision.datasets.ImageFolder(path)   \n",
        "    list_images = dataset.imgs\n",
        "    train_data_tensor  = None    \n",
        "    labels_training = []\n",
        "    first_tensor = True\n",
        "\n",
        "    for i in range(0, len(list_images)):\n",
        "        pair_path_label = list_images[i]        \n",
        "        image = Image.open(pair_path_label[0]) \n",
        "        x_tensor = TF.to_tensor(image).squeeze()\n",
        "        x_tensor_bin = binarize_image(x_tensor)       \n",
        "        \n",
        "        x_tensor_bin_plain = x_tensor_bin.view(x_tensor_bin.shape[0] * x_tensor_bin.shape[1], -1)\n",
        "\n",
        "        #test dataset case        \n",
        "\n",
        "        labels_training += [pair_path_label[1]]\n",
        "        \n",
        "        if(first_tensor):\n",
        "            first_tensor = False\n",
        "            train_data_tensor = x_tensor_bin_plain\n",
        "        else:\n",
        "            train_data_tensor = torch.cat((train_data_tensor, x_tensor_bin_plain), 1)\n",
        " \n",
        "    return (train_data_tensor, torch.tensor(labels_training))       \n",
        "\n",
        "    \n",
        "(train_data_tensor, labels_tensor) = load_dataset(path = \"/content/drive/MyDrive/Colab Notebooks/mnist_dataset/train\")\n",
        "\n",
        "p_m_pix_val_given_k , p_t_tensor = train_model(train_data_tensor, labels_tensor)\n",
        "\n",
        "#Predecir el lable de una observacion, la observacion #500\n",
        "(predicted_label, scores_classes) = test_model(train_data_tensor[:, 500], p_m_pix_val_given_k, p_t_tensor, 10)\n",
        "\n",
        "\n",
        "accuracy = test_model_batch(train_data_tensor, labels_tensor, p_m_pix_val_given_k, p_t_tensor)\n",
        "\n",
        "print(\"The accuracy is\", accuracy)\n",
        "\n",
        "               \n",
        "    \n",
        "    "
      ]
    }
  ],
  "metadata": {
    "kernelspec": {
      "display_name": "Python 3 (ipykernel)",
      "language": "python",
      "name": "python3"
    },
    "language_info": {
      "codemirror_mode": {
        "name": "ipython",
        "version": 3
      },
      "file_extension": ".py",
      "mimetype": "text/x-python",
      "name": "python",
      "nbconvert_exporter": "python",
      "pygments_lexer": "ipython3",
      "version": "3.9.7"
    },
    "colab": {
      "name": "BayesianModel_MNIST_base.ipynb",
      "provenance": [],
      "collapsed_sections": []
    }
  },
  "nbformat": 4,
  "nbformat_minor": 0
}