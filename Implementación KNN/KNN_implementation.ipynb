{
  "nbformat": 4,
  "nbformat_minor": 0,
  "metadata": {
    "colab": {
      "name": "KNN implementation.ipynb",
      "provenance": [],
      "collapsed_sections": []
    },
    "kernelspec": {
      "name": "python3",
      "display_name": "Python 3"
    },
    "language_info": {
      "name": "python"
    }
  },
  "cells": [
    {
      "cell_type": "code",
      "execution_count": 3,
      "metadata": {
        "id": "iSJtbaCPJ0aa"
      },
      "outputs": [],
      "source": [
        "from __future__ import print_function\n",
        "import argparse\n",
        "import torch\n",
        "import torch.nn as nn\n",
        "import torch.nn.functional as F\n",
        "import torch.optim as optim\n",
        "import numpy as np;\n",
        "import pandas as pandas;\n",
        "from scipy import ndimage\n",
        "from torchvision import datasets, transforms\n",
        "from torch.distributions import normal\n",
        "from torch.distributions import multivariate_normal\n",
        "import matplotlib.pyplot as plt\n",
        "import time"
      ]
    },
    {
      "cell_type": "code",
      "source": [
        "def createData(numberSamplesPerClass = 2, mean1 = [2, 2], mean2 = [26, 26], stds1 = [3, 3], stds2 = [2, 1]):\n",
        "    \"\"\"\n",
        "    Creates the data to be used for training, using a GMM distribution\n",
        "    @param numberSamplesPerClass, the number of samples per class\n",
        "    @param mean1, means for samples from the class 1\n",
        "    @param mean2, means for samples from the class 2\n",
        "    @param stds1, standard deviation for samples, class 1\n",
        "    @param stds2, standard deviation for samples, class 2    \"\"\"\n",
        "    means = torch.zeros(2)\n",
        "    # Ones to concatenate for bias\n",
        "    ones = torch.ones(numberSamplesPerClass, 1)\n",
        "    means[0] = mean1[0]\n",
        "    means[1] = mean1[1]\n",
        "    # Covariance matrix creation with identity\n",
        "    covarianceMatrix = torch.eye(2)\n",
        "    covarianceMatrix[0, 0] = stds1[0]\n",
        "    covarianceMatrix[1, 1] = stds1[1]\n",
        "    samplesClass1 = createDataOneClass(means, covarianceMatrix, numberSamplesPerClass)\n",
        "    means[0] = mean2[0]\n",
        "    means[1] = mean2[1]\n",
        "    covarianceMatrix[0, 0] = stds2[0]\n",
        "    covarianceMatrix[1, 1] = stds2[1]\n",
        "    samplesClass2 = createDataOneClass(means, covarianceMatrix, numberSamplesPerClass)\n",
        "    # Concatenates the ones for the bias\n",
        "    samplesClass1Bias = torch.cat((ones, samplesClass1), 1)\n",
        "    samplesClass2Bias = torch.cat((ones, samplesClass2), 1)\n",
        "    samplesAll = torch.cat((samplesClass1, samplesClass2), 0)\n",
        "    plt.scatter(samplesClass1[:, 0], samplesClass1[:, 1])\n",
        "    plt.scatter(samplesClass2[:, 0], samplesClass2[:, 1], marker = 'x')\n",
        "    plt.show()\n",
        "    #Create samples without bias\n",
        "    samplesAll = torch.cat((samplesClass1, samplesClass2), 0)\n",
        "    \n",
        "    #Create targets\n",
        "    targetsClass1 = torch.ones(numberSamplesPerClass, 1)\n",
        "    targetsClass2 = torch.zeros(numberSamplesPerClass, 1)\n",
        "    targetsAll = torch.cat((targetsClass1, targetsClass2), 0)\n",
        "    \n",
        "    return (targetsAll, samplesAll)\n",
        "\n",
        "\n",
        "'''\n",
        "Creates data with gaussian distribution\n",
        "'''\n",
        "def createDataOneClass(means, covarianceMatrix, numberSamples):\n",
        "    # Inits the bi gaussian data generator\n",
        "    multiGaussGenerator = multivariate_normal.MultivariateNormal(means, covarianceMatrix)\n",
        "    # Takes the samples\n",
        "    samples = multiGaussGenerator.sample(torch.Size([numberSamples]))\n",
        "    \n",
        "    return samples"
      ],
      "metadata": {
        "id": "N-fLP3ETJ37K"
      },
      "execution_count": 4,
      "outputs": []
    },
    {
      "cell_type": "code",
      "source": [
        "\n",
        "def evaluate_k_nearest_neighbors_observation(data_training, labels_training, test_observation, K = 3, is_euclidian = True):\n",
        "    #TODO\n",
        "    copy_data_training = torch.clone(data_training)\n",
        "    ones = torch.ones(data_training.shape[0], 1)\n",
        "\n",
        "    distanced_data_training = torch.cat((copy_data_training, ones, ), 1)\n",
        "    print(\"Training data with distances not available yet\")\n",
        "    print(distanced_data_training)\n",
        "\n",
        "    register = 0\n",
        "    for train_point in data_training:\n",
        "        dist = euclidean_dist(test_observation, train_point)\n",
        "        #Se necesito redondear de otra forma el sort posterior no funcionaba\n",
        "        dist = np.round(dist, 1)\n",
        "        distanced_data_training[register, 2] = dist\n",
        "        register += 1\n",
        "\n",
        "    print(\"With distances available....\")\n",
        "    print(distanced_data_training)\n",
        "    \n",
        "    #Teniendo las distancias de cada punto respecto a la observacion podemos empezar a hacer sort y luego hacer la votacion\n",
        "    \n",
        "    print(\"Distanced data training sorted....\")\n",
        "    distanced_data_training_sorted = distanced_data_training[torch.argsort(distanced_data_training[:, 2])] # sorts training points on the basis of distance\n",
        "    print(distanced_data_training_sorted)\n",
        "    #return t_estimated\n",
        "\n",
        "def euclidean_dist(pointA, pointB):\n",
        "    aux = pointA - pointB\n",
        "    sumAux = aux.sum()\n",
        "    distance = np.sqrt(sumAux ** 2)\n",
        "    return distance\n",
        "\n",
        "\n",
        "'''    \n",
        "def evaluate_k_nearest_neighbors_test_dataset(data_training, labels_training, test_dataset, K = 7, is_euclidian = True):\n",
        "    #TODO\n",
        "\n",
        "def calculate_accuracy(test_estimations, test_labels):\n",
        "    #TODO\n",
        "        \n",
        "'''    \n",
        "    \n",
        "    \n",
        "    "
      ],
      "metadata": {
        "colab": {
          "base_uri": "https://localhost:8080/",
          "height": 53
        },
        "id": "09PLFLnAJ8ZC",
        "outputId": "5b0bd9fa-e8ed-4d1e-b2ca-739bbfaa5121"
      },
      "execution_count": 97,
      "outputs": [
        {
          "output_type": "execute_result",
          "data": {
            "application/vnd.google.colaboratory.intrinsic+json": {
              "type": "string"
            },
            "text/plain": [
              "'    \\ndef evaluate_k_nearest_neighbors_test_dataset(data_training, labels_training, test_dataset, K = 7, is_euclidian = True):\\n    #TODO\\n\\ndef calculate_accuracy(test_estimations, test_labels):\\n    #TODO\\n        \\n'"
            ]
          },
          "metadata": {},
          "execution_count": 97
        }
      ]
    },
    {
      "cell_type": "code",
      "source": [
        "\"\"\"\n",
        "Main function\n",
        "\"\"\"\n",
        "def main():\n",
        "    (TargetsAll, SamplesAll) = createData(numberSamplesPerClass = 2000, mean1 = [12,12], mean2 = [15, 15], stds1 = [3, 3], stds2 = [2, 2])    \n",
        "    test_observation_1 = SamplesAll[0, :].unsqueeze(0)\n",
        "    print(test_observation_1)\n",
        "    #Creamos esta observacion para ver que clase nos da, a simple vista pareciera ser de los azules\n",
        "    observation = torch.tensor([[9.8707,12.9192]])\n",
        "    print(observation)\n",
        "    #example\n",
        "    evaluate_k_nearest_neighbors_observation(SamplesAll, TargetsAll, observation)    \n",
        "    #test_estimations_all = evaluate_k_nearest_neighbors_test_dataset(SamplesAll, TargetsAll, SamplesAll,  is_euclidian = False)\n",
        "    #calculate accuracy\n",
        "    #calculate_accuracy(test_estimations_all.unsqueeze(0).transpose(0, 1), TargetsAll)\n",
        "    \n",
        "\n",
        "    \n",
        "main()"
      ],
      "metadata": {
        "colab": {
          "base_uri": "https://localhost:8080/",
          "height": 716
        },
        "id": "7hqDucE6KMei",
        "outputId": "ee02e685-f2eb-4b9c-e7a8-94266ae94282"
      },
      "execution_count": 98,
      "outputs": [
        {
          "output_type": "display_data",
          "data": {
            "image/png": "[encoded data removed]",
            "text/plain": [
              "<Figure size 432x288 with 1 Axes>"
            ]
          },
          "metadata": {
            "needs_background": "light"
          }
        },
        {
          "output_type": "stream",
          "name": "stdout",
          "text": [
            "tensor([[8.6713, 9.5969]])\n",
            "tensor([[ 9.8707, 12.9192]])\n",
            "Training data with distances not available yet\n",
            "tensor([[ 8.6713,  9.5969,  1.0000],\n",
            "        [ 9.9072, 13.6343,  1.0000],\n",
            "        [13.3437,  7.7851,  1.0000],\n",
            "        ...,\n",
            "        [16.2047, 15.1331,  1.0000],\n",
            "        [16.2402, 12.0045,  1.0000],\n",
            "        [15.8199, 16.2973,  1.0000]])\n",
            "With distances available....\n",
            "tensor([[ 8.6713,  9.5969,  4.5000],\n",
            "        [ 9.9072, 13.6343,  0.8000],\n",
            "        [13.3437,  7.7851,  1.7000],\n",
            "        ...,\n",
            "        [16.2047, 15.1331,  8.5000],\n",
            "        [16.2402, 12.0045,  5.5000],\n",
            "        [15.8199, 16.2973,  9.3000]])\n",
            "Distanced data training sorted....\n",
            "tensor([[13.5655,  9.2264,  0.0000],\n",
            "        [12.3487, 10.4337,  0.0000],\n",
            "        [10.2692, 12.5585,  0.0000],\n",
            "        ...,\n",
            "        [18.7876, 17.0694, 13.1000],\n",
            "        [19.3240, 17.6253, 14.2000],\n",
            "        [19.1163, 18.1416, 14.5000]])\n"
          ]
        }
      ]
    },
    {
      "cell_type": "code",
      "source": [
        "x = torch.tensor([[ 9.4596, 12.6573,  1.0000],\n",
        "        [11.8518, 15.0861,  1.0000],\n",
        "        [ 9.2940, 13.3156,  1.0000],\n",
        "        [14.6582, 16.7362,  1.0000],\n",
        "        [18.1332, 15.0848,  1.0000],\n",
        "        [15.4213, 17.2577,  1.0000]])\n",
        "print(x)\n",
        "\n",
        "print(x[torch.argsort(x[:, 1])])"
      ],
      "metadata": {
        "colab": {
          "base_uri": "https://localhost:8080/"
        },
        "id": "E_DsbNR8cTIR",
        "outputId": "8a2d2bfe-898e-4094-8a6f-bdb728410957"
      },
      "execution_count": 48,
      "outputs": [
        {
          "output_type": "stream",
          "name": "stdout",
          "text": [
            "tensor([[ 9.4596, 12.6573,  1.0000],\n",
            "        [11.8518, 15.0861,  1.0000],\n",
            "        [ 9.2940, 13.3156,  1.0000],\n",
            "        [14.6582, 16.7362,  1.0000],\n",
            "        [18.1332, 15.0848,  1.0000],\n",
            "        [15.4213, 17.2577,  1.0000]])\n",
            "tensor([[ 9.4596, 12.6573,  1.0000],\n",
            "        [ 9.2940, 13.3156,  1.0000],\n",
            "        [18.1332, 15.0848,  1.0000],\n",
            "        [11.8518, 15.0861,  1.0000],\n",
            "        [14.6582, 16.7362,  1.0000],\n",
            "        [15.4213, 17.2577,  1.0000]])\n"
          ]
        }
      ]
    }
  ]
}