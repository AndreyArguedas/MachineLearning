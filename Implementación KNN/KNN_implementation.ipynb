{
  "nbformat": 4,
  "nbformat_minor": 0,
  "metadata": {
    "colab": {
      "name": "KNN implementation.ipynb",
      "provenance": [],
      "collapsed_sections": []
    },
    "kernelspec": {
      "name": "python3",
      "display_name": "Python 3"
    },
    "language_info": {
      "name": "python"
    }
  },
  "cells": [
    {
      "cell_type": "code",
      "execution_count": 2,
      "metadata": {
        "id": "iSJtbaCPJ0aa"
      },
      "outputs": [],
      "source": [
        "from __future__ import print_function\n",
        "import argparse\n",
        "import torch\n",
        "import torch.nn as nn\n",
        "import torch.nn.functional as F\n",
        "import torch.optim as optim\n",
        "import numpy as np;\n",
        "import pandas as pandas;\n",
        "from scipy import ndimage\n",
        "from torchvision import datasets, transforms\n",
        "from torch.distributions import normal\n",
        "from torch.distributions import multivariate_normal\n",
        "import matplotlib.pyplot as plt\n",
        "import time"
      ]
    },
    {
      "cell_type": "code",
      "source": [
        "def createData(numberSamplesPerClass = 2, mean1 = [2, 2], mean2 = [26, 26], stds1 = [3, 3], stds2 = [2, 1]):\n",
        "    \"\"\"\n",
        "    Creates the data to be used for training, using a GMM distribution\n",
        "    @param numberSamplesPerClass, the number of samples per class\n",
        "    @param mean1, means for samples from the class 1\n",
        "    @param mean2, means for samples from the class 2\n",
        "    @param stds1, standard deviation for samples, class 1\n",
        "    @param stds2, standard deviation for samples, class 2    \"\"\"\n",
        "    means = torch.zeros(2)\n",
        "    # Ones to concatenate for bias\n",
        "    ones = torch.ones(numberSamplesPerClass, 1)\n",
        "    means[0] = mean1[0]\n",
        "    means[1] = mean1[1]\n",
        "    # Covariance matrix creation with identity\n",
        "    covarianceMatrix = torch.eye(2)\n",
        "    covarianceMatrix[0, 0] = stds1[0]\n",
        "    covarianceMatrix[1, 1] = stds1[1]\n",
        "    samplesClass1 = createDataOneClass(means, covarianceMatrix, numberSamplesPerClass)\n",
        "    means[0] = mean2[0]\n",
        "    means[1] = mean2[1]\n",
        "    covarianceMatrix[0, 0] = stds2[0]\n",
        "    covarianceMatrix[1, 1] = stds2[1]\n",
        "    samplesClass2 = createDataOneClass(means, covarianceMatrix, numberSamplesPerClass)\n",
        "    # Concatenates the ones for the bias\n",
        "    samplesClass1Bias = torch.cat((ones, samplesClass1), 1)\n",
        "    samplesClass2Bias = torch.cat((ones, samplesClass2), 1)\n",
        "    samplesAll = torch.cat((samplesClass1, samplesClass2), 0)\n",
        "    plt.scatter(samplesClass1[:, 0], samplesClass1[:, 1])\n",
        "    plt.scatter(samplesClass2[:, 0], samplesClass2[:, 1], marker = 'x')\n",
        "    plt.show()\n",
        "    #Create samples without bias\n",
        "    samplesAll = torch.cat((samplesClass1, samplesClass2), 0)\n",
        "    \n",
        "    #Create targets\n",
        "    targetsClass1 = torch.ones(numberSamplesPerClass, 1)\n",
        "    targetsClass2 = torch.zeros(numberSamplesPerClass, 1)\n",
        "    targetsAll = torch.cat((targetsClass1, targetsClass2), 0)\n",
        "    \n",
        "    return (targetsAll, samplesAll)\n",
        "\n",
        "\n",
        "'''\n",
        "Creates data with gaussian distribution\n",
        "'''\n",
        "def createDataOneClass(means, covarianceMatrix, numberSamples):\n",
        "    # Inits the bi gaussian data generator\n",
        "    multiGaussGenerator = multivariate_normal.MultivariateNormal(means, covarianceMatrix)\n",
        "    # Takes the samples\n",
        "    samples = multiGaussGenerator.sample(torch.Size([numberSamples]))\n",
        "    \n",
        "    return samples"
      ],
      "metadata": {
        "id": "N-fLP3ETJ37K"
      },
      "execution_count": 3,
      "outputs": []
    },
    {
      "cell_type": "code",
      "source": [
        "\n",
        "def evaluate_k_nearest_neighbors_observation(data_training, labels_training, test_observation, K = 3, is_euclidian = True):\n",
        "    #We clone the data for better handling\n",
        "    copy_data_training = torch.clone(data_training)\n",
        "    #Create a column full of ones to append to the data training\n",
        "    ones = torch.ones(data_training.shape[0], 1)\n",
        "    #We append the column of ones\n",
        "    distanced_data_training = torch.cat((copy_data_training, ones, ), 1)\n",
        "    #print(\"-------Training data with distances not available yet--------------\")\n",
        "    #print(distanced_data_training)\n",
        "\n",
        "    register = 0\n",
        "    for train_point in data_training:\n",
        "        #Get the euclidean distance of points\n",
        "        dist = euclidean_dist(test_observation, train_point)\n",
        "        #We round to 1 decimal\n",
        "        dist = np.round(dist, 1)\n",
        "        #We put the distances in the column of ones\n",
        "        distanced_data_training[register, 2].mul_(dist)\n",
        "        register += 1\n",
        "\n",
        "    #print(\"------------Training data With distances available....-------------\")\n",
        "    #print(distanced_data_training)\n",
        "    \n",
        "    \n",
        "    #print(\"---------Distanced data training sorted....--------\")\n",
        "    # Sorts training points on the basis of distance\n",
        "    sorted_values, sorted_index = torch.sort(distanced_data_training[:, 2]) \n",
        "    #print(\"---------Sorted values....--------\")\n",
        "    #print(sorted_values)\n",
        "    #print(\"---------Sorted index....--------\")\n",
        "    #print(sorted_index)\n",
        "\n",
        "    #Here we have k neighbors\n",
        "    k_neighbors_values = sorted_values[:K] # selects k-nearest neighbors\n",
        "    k_neighbors_index = sorted_index[:K] # selects k-nearest neighbors\n",
        "    \n",
        "\n",
        "    #Lets vote\n",
        "\n",
        "    #print(\"---------K NEAREST NEIGHBORS....--------\")\n",
        "    #print(k_neighbors_values)\n",
        "    #print(k_neighbors_index)\n",
        "\n",
        "    #print(\"-----------Labels------------\")\n",
        "    k_labels = labels_training[k_neighbors_index]\n",
        "    #print(k_labels)\n",
        "    #Here we get the most common category of the K nearest neighbors\n",
        "    t_estimated = torch.mode(k_labels, 0).values.item()\n",
        "    return t_estimated\n",
        "\n",
        "\n",
        "def euclidean_dist(pointA, pointB):\n",
        "    aux = pointA - pointB\n",
        "    sumAux = aux.sum()\n",
        "    distance = np.sqrt(sumAux ** 2)\n",
        "    return distance\n",
        "\n",
        "\n",
        "  \n",
        "def evaluate_k_nearest_neighbors_test_dataset(data_training, labels_training, test_dataset, K = 7, is_euclidian = True):\n",
        "    register = 0\n",
        "    observation_estimates = torch.ones(data_training.shape[0], 1)\n",
        "    for sample_point in test_dataset:\n",
        "        observation_estimate = evaluate_k_nearest_neighbors_observation(data_training, labels_training, sample_point, 3, is_euclidian)\n",
        "        observation_estimates[register, 0].mul_(observation_estimate)\n",
        "        register += 1\n",
        "    return observation_estimates\n",
        "\n",
        "def calculate_accuracy(test_estimations, test_labels):\n",
        "    total_amount_samples = test_labels.shape[0]\n",
        "    total_amount_right_estimations = (test_estimations == test_labels).sum()\n",
        "    return total_amount_right_estimations / total_amount_samples"
      ],
      "metadata": {
        "id": "09PLFLnAJ8ZC"
      },
      "execution_count": 6,
      "outputs": []
    },
    {
      "cell_type": "code",
      "source": [
        "\"\"\"\n",
        "Main function\n",
        "\"\"\"\n",
        "def main():\n",
        "    (TargetsAll, SamplesAll) = createData(numberSamplesPerClass = 2000, mean1 = [12,12], mean2 = [15, 15], stds1 = [3, 3], stds2 = [2, 2])    \n",
        "    #print(TargetsAll)\n",
        "    test_observation_1 = SamplesAll[0, :].unsqueeze(0)\n",
        "    #print(test_observation_1)\n",
        "\n",
        "    #example\n",
        "    #estimatedValue = evaluate_k_nearest_neighbors_observation(SamplesAll, TargetsAll, test_observation_1)\n",
        "    #print(\"The category value for\", test_observation_1, \"is------->\", estimatedValue)\n",
        "\n",
        "    start_time = time.time()\n",
        "    test_estimations_all = evaluate_k_nearest_neighbors_test_dataset(SamplesAll, TargetsAll, SamplesAll, 3, is_euclidian = True)\n",
        "    #print(\"All estimations after running KNN\", test_estimations_all)\n",
        "    #calculate accuracy\n",
        "    accuracy = calculate_accuracy(test_estimations_all, TargetsAll)\n",
        "    print(accuracy)\n",
        "\n",
        "    # your code\n",
        "    elapsed_time = time.time() - start_time\n",
        "\n",
        "    print(\"Tiemduration :\", elapsed_time)\n",
        "    \n",
        "\n",
        "    \n",
        "main()"
      ],
      "metadata": {
        "colab": {
          "base_uri": "https://localhost:8080/",
          "height": 304
        },
        "id": "7hqDucE6KMei",
        "outputId": "8ca945f7-48f9-4282-a36e-8c5eed2c6a64"
      },
      "execution_count": 8,
      "outputs": [
        {
          "output_type": "display_data",
          "data": {
            "image/png": "[encoded data removed]",
            "text/plain": [
              "<Figure size 432x288 with 1 Axes>"
            ]
          },
          "metadata": {
            "needs_background": "light"
          }
        },
        {
          "output_type": "stream",
          "name": "stdout",
          "text": [
            "tensor(0.9250)\n",
            "Tiemduration : 2.4666616916656494\n"
          ]
        }
      ]
    }
  ]
}