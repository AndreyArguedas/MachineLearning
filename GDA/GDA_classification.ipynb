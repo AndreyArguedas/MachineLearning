{
 "cells": [
  {
   "cell_type": "markdown",
   "metadata": {
    "id": "5Zaay0kwUet7"
   },
   "source": [
    "## Creation of artificial data\n",
    "\n",
    "Data are created artificially with a mixed Gaussian distribution of two clusters, with specific means and standard deviations"
   ]
  },
  {
   "cell_type": "code",
   "execution_count": 18,
   "metadata": {
    "id": "JUiEaBy2Ug7q"
   },
   "outputs": [],
   "source": [
    "from __future__ import print_function\n",
    "import argparse\n",
    "import torch\n",
    "import torch.nn as nn\n",
    "import torch.nn.functional as F\n",
    "import torch.optim as optim\n",
    "import numpy as np;\n",
    "import pandas as pandas;\n",
    "from scipy import ndimage\n",
    "from torchvision import datasets, transforms\n",
    "from torch.distributions import normal\n",
    "from torch.distributions import multivariate_normal\n",
    "import matplotlib.pyplot as plt\n",
    "\n",
    "\"\"\"\n",
    "Creates the data to be used for training, using a GMM distribution\n",
    "@param size_sample, the number of sample per class\n",
    "@param mean1, means for sample from the class 1\n",
    "@param mean2, means for sample from the class 2\n",
    "@param stds1, standard deviation for sample, class 1\n",
    "@param stds2, standard deviation for sample, class 2\n",
    "\"\"\"\n",
    "def createData(size_sample = 2, mean1 = [15, 16], mean2 = [5, 5], stds1 = [5, 6], stds2 = [2, 1]):\n",
    "    means = torch.zeros(2)\n",
    "\n",
    "    # Ones to concatenate for bias\n",
    "    ones = torch.ones(size_sample, 1)\n",
    "    means[0] = mean1[0]\n",
    "    means[1] = mean1[1]\n",
    "    # Covariance matrix creation with identity\n",
    "    covarianceMatrix = torch.eye(2)\n",
    "    covarianceMatrix[0, 0] = stds1[0]\n",
    "    covarianceMatrix[1, 1] = stds1[1]\n",
    "    covarianceMatrix[0, 1] = -4.0\n",
    "    covarianceMatrix[1, 0] = -4.0\n",
    "    sampleClass1 = createDataOneClass(means, covarianceMatrix, size_sample)\n",
    "    means[0] = mean2[0]\n",
    "    means[1] = mean2[1]\n",
    "    covarianceMatrix[0, 1] = 0.0\n",
    "    covarianceMatrix[1, 0] = 0.0\n",
    "    covarianceMatrix[0, 0] = stds2[0]\n",
    "    covarianceMatrix[1, 1] = stds2[1]\n",
    "    sampleClass2 = createDataOneClass(means, covarianceMatrix, size_sample)\n",
    "    # Concatenates the ones for the bias\n",
    "   \n",
    "    sampleAll = torch.cat((sampleClass1, sampleClass2), 0)\n",
    "    plt.scatter(sampleClass1[:, 0], sampleClass1[:, 1])\n",
    "    plt.scatter(sampleClass2[:, 0], sampleClass2[:, 1], color='red')\n",
    "    plt.show()\n",
    "    targets_all = torch.cat((torch.zeros(size_sample, 1), torch.ones(size_sample, 1)), 0)\n",
    "    #print(targets_all)\n",
    "    return (sampleAll, targets_all)\n",
    "\n",
    "\n",
    "'''\n",
    "Creates data with gaussian distribution\n",
    "'''\n",
    "def createDataOneClass(means, covarianceMatrix, size_sample):\n",
    "    # Inits the bi gaussian data generator\n",
    "    multiGauss_generator = multivariate_normal.MultivariateNormal(means, covarianceMatrix)\n",
    "    # Takes the sample\n",
    "    sample = multiGauss_generator.sample(torch.Size([size_sample]))\n",
    "    \n",
    "    return sample"
   ]
  },
  {
   "cell_type": "markdown",
   "metadata": {
    "id": "3nJxA3FnUqw6"
   },
   "source": [
    "## Train GDA model\n",
    "Calculate the covariance matrix and the means for each dataset"
   ]
  },
  {
   "cell_type": "code",
   "execution_count": 27,
   "metadata": {
    "id": "bgoDbzrBVIn8"
   },
   "outputs": [],
   "source": [
    "def calculate_covariance_and_mean(sample_data, labels_data, label_stats):\n",
    "  \"\"\"\n",
    "  Assume that the sample is from the same class\n",
    "  sample_class: matrix with all the data\n",
    "  return: mean and covariance of the data\n",
    "  Estimates the mean and covariance from the data, equivalent to model training\n",
    "  \"\"\"\n",
    "  num_dimensions = sample_data.shape[1]\n",
    "  num_observations = sample_data.shape[0]\n",
    "  #extract the observations of the class to calculate its covariance and mean\n",
    "  observations_to_extract = labels_data == label_stats\n",
    "  #print(\"observations_to_extract shape \", observations_to_extract.shape)\n",
    "  #indexing_matrix = observations_to_extract.repeat(1, num_dimensions)\n",
    "  indices = (labels_data == label_stats).squeeze()\n",
    "  #print(\"indices \", indices.shape)\n",
    "  sample_data_class = sample_data[indices]\n",
    "  #calculate covariance matrix\n",
    "  covariance_matrix = torch.cov(sample_data_class.transpose(0, 1))\n",
    "  print(covariance_matrix)\n",
    "  mean_class = sample_data_class.mean(dim = 0).unsqueeze(0).transpose(0, 1)\n",
    "  return (mean_class, covariance_matrix)\n",
    "\n",
    "def evaluate_gaussian_2d(mu_array, Sigma, x_array):\n",
    "    \"\"\"\n",
    "    Evaluate the gaussian 2d value in a specific x\n",
    "    Assumes both are pytorch 2d arrays\n",
    "    \"\"\"\n",
    "    num_dimensions = mu_array.shape[0]    \n",
    "    determinant_Sigma = torch.det(Sigma)\n",
    "    #normalization factor\n",
    "    norm_factor =  1 / (torch.sqrt((2 * torch.pi)** torch.tensor(num_dimensions)) * torch.sqrt(determinant_Sigma))\n",
    "    #cuadratic form exponent\n",
    "    cuadratic_form = (x_array - mu_array).transpose(0, 1).mm(Sigma.inverse()).mm(x_array - mu_array)    \n",
    "    #final value\n",
    "    gauss_result = norm_factor * torch.exp(-0.5*cuadratic_form)\n",
    "    return gauss_result  \n",
    "\n",
    "def evaluate_model(mu_1, Sigma_1, mu_2, Sigma_2, dataset, targets):\n",
    "  \"\"\"\n",
    "  Evaluates a given bi-gaussian model for binary classification using the given parameters\n",
    "  \"\"\"\n",
    "  num_observations = dataset.shape[0]\n",
    "  num_incorrect = 0\n",
    "  for i in range(0, num_observations):\n",
    "    #calculate the likelihood for each observation...\n",
    "    x_array = dataset[i, :].unsqueeze(0).transpose(0, 1)\n",
    "    likelihood_gauss_1 = evaluate_gaussian_2d(mu_1, Sigma_1, x_array)\n",
    "    likelihood_gauss_2 = evaluate_gaussian_2d(mu_2, Sigma_2, x_array)\n",
    "    #Decide the estimated target according to it\n",
    "    estimated_target = 0\n",
    "    if(likelihood_gauss_2 > likelihood_gauss_1):\n",
    "      estimated_target = 1\n",
    "    if(estimated_target != targets[i]):\n",
    "      num_incorrect += 1\n",
    "\n",
    "  return num_incorrect / num_observations\n",
    "\n"
   ]
  },
  {
   "cell_type": "code",
   "execution_count": 93,
   "metadata": {
    "colab": {
     "base_uri": "https://localhost:8080/"
    },
    "id": "B5n2zhfWffhr",
    "outputId": "3bd54bb6-9792-4a1a-be8b-53be47c6f0af"
   },
   "outputs": [
    {
     "name": "stdout",
     "output_type": "stream",
     "text": [
      "tensor([False,  True,  True])\n",
      "tensor([[2., 6.],\n",
      "        [3., 9.]])\n"
     ]
    }
   ],
   "source": [
    "a = torch.tensor([[1, 5], [2.0, 6], [3, 9]])\n",
    "indices = a[:, 0] > 1\n",
    "print(indices)\n",
    "c = a[a[:, 0] > 1]\n",
    "print(c)"
   ]
  },
  {
   "cell_type": "markdown",
   "metadata": {
    "id": "FNBvXNsfV-v7"
   },
   "source": [
    "## Test \n",
    "Test the method classifying the same training data"
   ]
  },
  {
   "cell_type": "code",
   "execution_count": 28,
   "metadata": {
    "colab": {
     "base_uri": "https://localhost:8080/",
     "height": 623
    },
    "id": "3gDlzp_sWKfh",
    "outputId": "b7a57ef4-e1d4-4eb6-d9bb-1da0d326c6b7"
   },
   "outputs": [
    {
     "data": {
      "image/png": "[encoded data removed]",
      "text/plain": [
       "<Figure size 432x288 with 1 Axes>"
      ]
     },
     "metadata": {
      "needs_background": "light"
     },
     "output_type": "display_data"
    },
    {
     "name": "stdout",
     "output_type": "stream",
     "text": [
      "sample_all shape!  torch.Size([400, 2])\n",
      "tensor([[ 4.9735, -4.0655],\n",
      "        [-4.0655,  5.7442]])\n",
      "tensor([[ 2.2249, -0.1061],\n",
      "        [-0.1061,  0.7747]])\n",
      "mean_class1 \n",
      " tensor([[14.6034],\n",
      "        [16.3335]])\n",
      "Covariance matrix 1 \n",
      "  tensor([[ 4.9735, -4.0655],\n",
      "        [-4.0655,  5.7442]])\n",
      "mean_class2 \n",
      " tensor([[5.0425],\n",
      "        [4.9826]])\n",
      "Covariance matrix  2 \n",
      " torch.Size([2, 2])\n",
      "Error rate  0.0\n"
     ]
    }
   ],
   "source": [
    "\"\"\"\n",
    "Main function\n",
    "\"\"\"\n",
    "def main():\n",
    "    (sample_all, targets_all) = createData(size_sample = 200)\n",
    "    print(\"sample_all shape! \", sample_all.shape)\n",
    "    (mean_class1, covariance_matrix1) = calculate_covariance_and_mean(sample_all, targets_all, label_stats = 0)\n",
    "    (mean_class2, covariance_matrix2) = calculate_covariance_and_mean(sample_all, targets_all, label_stats = 1)    \n",
    "    print(\"mean_class1 \\n\", mean_class1)\n",
    "    print(\"Covariance matrix 1 \\n \", covariance_matrix1)\n",
    "    print(\"mean_class2 \\n\", mean_class2)\n",
    "    print(\"Covariance matrix  2 \\n\", covariance_matrix2.shape)\n",
    "    error_rate = evaluate_model(mean_class1, covariance_matrix1, mean_class2, covariance_matrix2, sample_all, targets_all)\n",
    "    print(\"Error rate \", error_rate)\n",
    "main()"
   ]
  },
  {
   "cell_type": "code",
   "execution_count": null,
   "metadata": {},
   "outputs": [],
   "source": []
  }
 ],
 "metadata": {
  "colab": {
   "name": "GDA_classification.ipynb",
   "provenance": []
  },
  "kernelspec": {
   "display_name": "Python 3",
   "language": "python",
   "name": "python3"
  },
  "language_info": {
   "codemirror_mode": {
    "name": "ipython",
    "version": 3
   },
   "file_extension": ".py",
   "mimetype": "text/x-python",
   "name": "python",
   "nbconvert_exporter": "python",
   "pygments_lexer": "ipython3",
   "version": "3.7.6"
  }
 },
 "nbformat": 4,
 "nbformat_minor": 1
}
